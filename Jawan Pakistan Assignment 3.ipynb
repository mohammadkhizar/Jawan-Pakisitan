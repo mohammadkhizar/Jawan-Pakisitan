{
 "cells": [
  {
   "cell_type": "code",
   "execution_count": null,
   "metadata": {},
   "outputs": [],
   "source": []
  },
  {
   "cell_type": "code",
   "execution_count": 1,
   "metadata": {},
   "outputs": [
    {
     "name": "stdout",
     "output_type": "stream",
     "text": [
      "\tTwinkle, twinkle, little star, \n",
      "\t\tHow I wonder what you are! \n",
      "\t\t\tUp above the world so high, \n",
      "\t\t\tLike a diamond in the sky. \n",
      "\tTwinkle, twinkle, little star, \n",
      "\t\tHow I wonder what you are!\n"
     ]
    }
   ],
   "source": [
    "#1. Write a Python program to print the following string in a specific format (see the\n",
    "# output).\n",
    "\n",
    "#         Twinkle, twinkle, little star,\n",
    "#                 How I wonder what you are!\n",
    "#                         Up above the world so high,\n",
    "#                         Like a diamond in the sky.\n",
    "\n",
    "#         Twinkle, twinkle, little star,\n",
    "#                 How I wonder what you are\n",
    "\n",
    "print(\"\\tTwinkle, twinkle, little star, \\n\\t\\tHow I wonder what you are! \\n\\t\\t\\tUp above the world so high, \\n\\t\\t\\tLike a diamond in the sky. \\n\\tTwinkle, twinkle, little star, \\n\\t\\tHow I wonder what you are!\")\n"
   ]
  },
  {
   "cell_type": "code",
   "execution_count": 2,
   "metadata": {},
   "outputs": [
    {
     "name": "stdout",
     "output_type": "stream",
     "text": [
      " Python version:  3.7.3 (default, Mar 27 2019, 17:13:21) [MSC v.1915 64 bit (AMD64)]\n"
     ]
    }
   ],
   "source": [
    "# 2. Write a Python program to get the Python version you are using\n",
    "\n",
    "import sys\n",
    "print(\" Python version: \",sys.version)"
   ]
  },
  {
   "cell_type": "code",
   "execution_count": 3,
   "metadata": {},
   "outputs": [
    {
     "name": "stdout",
     "output_type": "stream",
     "text": [
      "Current date and time :  2021-10-24 17:48:34\n"
     ]
    }
   ],
   "source": [
    "# 3. Write a Python program to display the current date and time.\n",
    "\n",
    "import datetime\n",
    "current = datetime.datetime.now()\n",
    "print (\"Current date and time : \",current.strftime(\"%Y-%m-%d %H:%M:%S\"))"
   ]
  },
  {
   "cell_type": "code",
   "execution_count": 4,
   "metadata": {},
   "outputs": [
    {
     "name": "stdout",
     "output_type": "stream",
     "text": [
      " Radius of circle: 4\n",
      " Area of circle is:  50.272\n"
     ]
    }
   ],
   "source": [
    "# 4. Write a Python program which accepts the radius of a circle from the user and compute\n",
    "# the area.\n",
    "\n",
    "r=float(input(\" Radius of circle: \"))\n",
    "area = 3.142 * r**2\n",
    "print(\" Area of circle is: \",area)"
   ]
  },
  {
   "cell_type": "code",
   "execution_count": 6,
   "metadata": {},
   "outputs": [
    {
     "name": "stdout",
     "output_type": "stream",
     "text": [
      " Input First Name : Muhammad Khizar\n",
      " Input Last Name : Baig\n",
      " Baig Muhammad Khizar\n"
     ]
    }
   ],
   "source": [
    "# 5. Write a Python program which accepts the user's first and last name and print them in\n",
    "# reverse order with a space between them.\n",
    "\n",
    "first_name = input(\" Input First Name : \")\n",
    "last_name = input(\" Input Last Name : \")\n",
    "print(\" \"+last_name+\" \"+first_name)"
   ]
  },
  {
   "cell_type": "code",
   "execution_count": 8,
   "metadata": {},
   "outputs": [
    {
     "name": "stdout",
     "output_type": "stream",
     "text": [
      " Enter 1st input: Muhammad\n",
      " Enter 2nd input:  Khizar\n",
      " Addition of two inputs:  Muhammad Khizar\n"
     ]
    }
   ],
   "source": [
    "# 6. Write a python program which takes two inputs from user and print them addition\n",
    "\n",
    "a=input(\" Enter 1st input: \")\n",
    "b=input(\" Enter 2nd input: \")\n",
    "print(\" Addition of two inputs: \",a+b)"
   ]
  },
  {
   "cell_type": "code",
   "execution_count": 2,
   "metadata": {},
   "outputs": [
    {
     "name": "stdout",
     "output_type": "stream",
     "text": [
      " --------= MARKSHEET =-------- \n",
      " Enter Islamiat marks: 88\n",
      " Enter English marks: 85\n",
      " Enter Maths marks: 97\n",
      " Enter Computer marks: 96\n",
      " Enter Physics marks: 90\n",
      " Percentage :  91.2\n",
      " Grade : A+ \n"
     ]
    }
   ],
   "source": [
    "# 7. Write a program which takes 5 inputs from user for different subject’s marks, total it and generate mark sheet using grades ?\n",
    "\n",
    "print(\" --------= MARKSHEET =-------- \")\n",
    "Isl = float(input(\" Enter Islamiat marks: \"))\n",
    "Eng = float(input(\" Enter English marks: \"))\n",
    "Maths = float(input(\" Enter Maths marks: \"))\n",
    "Comp = float(input(\" Enter Computer marks: \"))\n",
    "Physics = float(input(\" Enter Physics marks: \"))\n",
    "Total_Marks = Isl+Eng+Maths+Comp+Physics;\n",
    "per = (Total_Marks/500)*100\n",
    "print(\" Percentage : \",per)\n",
    "if per < 100 and per >= 80:\n",
    "    print(\" Grade : A+ \");\n",
    "elif per < 80 and per >= 70:\n",
    "    print(\" Grade : A \");\n",
    "elif per < 70 and per >=60 :\n",
    "    print(\" Grade : B \")\n",
    "else:\n",
    "    print(\" Grade : Fail \")"
   ]
  },
  {
   "cell_type": "code",
   "execution_count": 3,
   "metadata": {},
   "outputs": [
    {
     "name": "stdout",
     "output_type": "stream",
     "text": [
      " Enter a number to identify that it is Even or Odd : 88\n",
      " Input number is Even \n"
     ]
    }
   ],
   "source": [
    "# 8. Write a program which take input from user and identify that the given number is even or odd?\n",
    "\n",
    "num=int(input(\" Enter a number to identify that it is Even or Odd : \"))\n",
    "ans = num % 2\n",
    "if ans > 0:\n",
    "    print(\" Input number is Odd \")\n",
    "else:\n",
    "    print(\" Input number is Even \")"
   ]
  },
  {
   "cell_type": "code",
   "execution_count": 4,
   "metadata": {},
   "outputs": [
    {
     "name": "stdout",
     "output_type": "stream",
     "text": [
      "The length of the list ['K', 'H', 'I', 1, 'Z', 9, 'A', 8, 'R'] is : 9\n"
     ]
    }
   ],
   "source": [
    "# 9. Write a program which print the length of the list?\n",
    "\n",
    "list=['K','H','I',1,'Z',9,'A',8,'R']\n",
    "l=0\n",
    "for i in list:\n",
    "    l=l+1\n",
    "print(\"The length of the list\",list, \"is :\",l)"
   ]
  },
  {
   "cell_type": "code",
   "execution_count": 5,
   "metadata": {},
   "outputs": [
    {
     "name": "stdout",
     "output_type": "stream",
     "text": [
      " Sum all the numeric items in a list :  803\n"
     ]
    }
   ],
   "source": [
    "# 10. Write a Python program to sum all the numeric items in a list?\n",
    "\n",
    "total = 0\n",
    "numeric_list = [1, 85, 8, 418, 203, 88]\n",
    "for n in range(0, len(numeric_list)):\n",
    "    total = total + numeric_list[n]\n",
    "    \n",
    "print(\" Sum all the numeric items in a list : \",total)"
   ]
  },
  {
   "cell_type": "code",
   "execution_count": 6,
   "metadata": {},
   "outputs": [
    {
     "name": "stdout",
     "output_type": "stream",
     "text": [
      " Largest number from a numeric list is : 564\n"
     ]
    }
   ],
   "source": [
    "# 11. Write a Python program to get the largest number from a numeric list.\n",
    "\n",
    "num_list = [88, 564, 10, 520, 40, 8, 45, 99]\n",
    "num_list.sort()\n",
    "print(\" Largest number from a numeric list is :\", num_list[-1])"
   ]
  },
  {
   "cell_type": "code",
   "execution_count": 7,
   "metadata": {},
   "outputs": [
    {
     "name": "stdout",
     "output_type": "stream",
     "text": [
      "1\n",
      "1\n",
      "2\n",
      "3\n"
     ]
    }
   ],
   "source": [
    "# 12. Take a list, say for example this one:\n",
    "# a = [1, 1, 2, 3, 5, 8, 13, 21, 34, 55, 89]\n",
    "# Write a program that prints out all the elements of the list that are less than 5.\n",
    "\n",
    "a = [1, 1, 2, 3, 5, 8, 13, 21, 34, 55, 89]\n",
    "for elements in a:\n",
    "    if(int(elements) <5):\n",
    "        print(str(elements))"
   ]
  },
  {
   "cell_type": "code",
   "execution_count": null,
   "metadata": {},
   "outputs": [],
   "source": []
  },
  {
   "cell_type": "code",
   "execution_count": null,
   "metadata": {},
   "outputs": [],
   "source": []
  }
 ],
 "metadata": {
  "kernelspec": {
   "display_name": "Python 3",
   "language": "python",
   "name": "python3"
  },
  "language_info": {
   "codemirror_mode": {
    "name": "ipython",
    "version": 3
   },
   "file_extension": ".py",
   "mimetype": "text/x-python",
   "name": "python",
   "nbconvert_exporter": "python",
   "pygments_lexer": "ipython3",
   "version": "3.7.3"
  }
 },
 "nbformat": 4,
 "nbformat_minor": 2
}
